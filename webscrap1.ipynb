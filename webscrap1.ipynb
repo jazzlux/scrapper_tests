{
 "cells": [
  {
   "cell_type": "code",
   "execution_count": 1,
   "metadata": {},
   "outputs": [
    {
     "data": {
      "text/plain": [
       "'£595 pcm'"
      ]
     },
     "execution_count": 1,
     "metadata": {},
     "output_type": "execute_result"
    }
   ],
   "source": [
    "import requests\n",
    "from bs4 import BeautifulSoup\n",
    "\n",
    "r=requests.get(\"https://www.rightmove.co.uk/property-to-rent/find.html?locationIdentifier=REGION%5E550&maxPrice=600&includeLetAgreed=false\")\n",
    "\n",
    "c=r.content\n",
    "\n",
    "soup=BeautifulSoup(c, \"html.parser\")\n",
    "\n",
    "all=soup.find_all(\"div\", {\"class\":\"propertyCard\"})\n",
    "\n",
    "all[2].find_all(\"span\", {\"class\":\"propertyCard-priceValue\"})[0].text"
   ]
  },
  {
   "cell_type": "code",
   "execution_count": 73,
   "metadata": {},
   "outputs": [],
   "source": [
    "lista=[]\n",
    "baseurl=\"https://www.rightmove.co.uk/property-to-rent/find.html?locationIdentifier=REGION%5E550&maxPrice=600&index=0&includeLetAgreed=false\"\n",
    "for page in range(0,580,24):\n",
    "    #print(baseurl.replace(\"index=0\",\"index=\"+str(page)))\n",
    "    r=requests.get(baseurl.replace(\"index=0\",\"index=\"+str(page)))\n",
    "    c=r.content\n",
    "    soup=BeautifulSoup(c, \"html.parser\")\n",
    "    all=soup.find_all(\"div\", {\"class\":\"propertyCard\"})\n",
    "    all[2].find_all(\"span\", {\"class\":\"propertyCard-priceValue\"})[0].text\n",
    "    for item in all:\n",
    "        data_dict={}\n",
    "\n",
    "        data_dict[\"price\"]=item.find(\"span\", {\"class\":\"propertyCard-priceValue\"}).text\n",
    "        data_dict[\"address\"]=item.find(\"span\", {\"data-bind\":\"text: displayAddress\"}).text\n",
    "\n",
    "        lista.append(data_dict)"
   ]
  },
  {
   "cell_type": "code",
   "execution_count": 74,
   "metadata": {},
   "outputs": [
    {
     "data": {
      "text/plain": [
       "625"
      ]
     },
     "execution_count": 74,
     "metadata": {},
     "output_type": "execute_result"
    }
   ],
   "source": [
    "len(lista)"
   ]
  },
  {
   "cell_type": "code",
   "execution_count": 75,
   "metadata": {},
   "outputs": [],
   "source": [
    "import pandas\n",
    "\n",
    "dataframe=pandas.DataFrame(lista)\n",
    "\n",
    "dataframe.to_csv(\"rightmove_glasgow.csv\")"
   ]
  }
 ],
 "metadata": {
  "kernelspec": {
   "display_name": "Python 3",
   "language": "python",
   "name": "python3"
  },
  "language_info": {
   "codemirror_mode": {
    "name": "ipython",
    "version": 3
   },
   "file_extension": ".py",
   "mimetype": "text/x-python",
   "name": "python",
   "nbconvert_exporter": "python",
   "pygments_lexer": "ipython3",
   "version": "3.7.1"
  }
 },
 "nbformat": 4,
 "nbformat_minor": 2
}
